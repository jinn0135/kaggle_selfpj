{
 "cells": [
  {
   "cell_type": "code",
   "execution_count": 1,
   "id": "3a3fef8c",
   "metadata": {},
   "outputs": [],
   "source": [
    "import numpy as np \n",
    "import pandas as pd \n",
    "import matplotlib.pyplot as plt\n",
    "import seaborn as sns"
   ]
  },
  {
   "cell_type": "code",
   "execution_count": 2,
   "id": "3fb229dc",
   "metadata": {},
   "outputs": [
    {
     "data": {
      "text/plain": [
       "((15304, 12), (10204, 11), (10204, 2))"
      ]
     },
     "execution_count": 2,
     "metadata": {},
     "output_type": "execute_result"
    }
   ],
   "source": [
    "train = pd.read_csv('./input/playground-series-s3e2/train.csv')\n",
    "test = pd.read_csv('./input/playground-series-s3e2/test.csv')\n",
    "submission = pd.read_csv('./input/playground-series-s3e2/sample_submission.csv')\n",
    "train.shape, test.shape, submission.shape"
   ]
  },
  {
   "cell_type": "code",
   "execution_count": 3,
   "id": "c97ca3ff",
   "metadata": {},
   "outputs": [
    {
     "name": "stdout",
     "output_type": "stream",
     "text": [
      "<class 'pandas.core.frame.DataFrame'>\n",
      "RangeIndex: 15304 entries, 0 to 15303\n",
      "Data columns (total 12 columns):\n",
      " #   Column             Non-Null Count  Dtype  \n",
      "---  ------             --------------  -----  \n",
      " 0   id                 15304 non-null  int64  \n",
      " 1   gender             15304 non-null  object \n",
      " 2   age                15304 non-null  float64\n",
      " 3   hypertension       15304 non-null  int64  \n",
      " 4   heart_disease      15304 non-null  int64  \n",
      " 5   ever_married       15304 non-null  object \n",
      " 6   work_type          15304 non-null  object \n",
      " 7   Residence_type     15304 non-null  object \n",
      " 8   avg_glucose_level  15304 non-null  float64\n",
      " 9   bmi                15304 non-null  float64\n",
      " 10  smoking_status     15304 non-null  object \n",
      " 11  stroke             15304 non-null  int64  \n",
      "dtypes: float64(3), int64(4), object(5)\n",
      "memory usage: 1.4+ MB\n"
     ]
    }
   ],
   "source": [
    "train.info()"
   ]
  },
  {
   "cell_type": "code",
   "execution_count": 4,
   "id": "3c158f67",
   "metadata": {},
   "outputs": [
    {
     "name": "stdout",
     "output_type": "stream",
     "text": [
      "<class 'pandas.core.frame.DataFrame'>\n",
      "RangeIndex: 10204 entries, 0 to 10203\n",
      "Data columns (total 11 columns):\n",
      " #   Column             Non-Null Count  Dtype  \n",
      "---  ------             --------------  -----  \n",
      " 0   id                 10204 non-null  int64  \n",
      " 1   gender             10204 non-null  object \n",
      " 2   age                10204 non-null  float64\n",
      " 3   hypertension       10204 non-null  int64  \n",
      " 4   heart_disease      10204 non-null  int64  \n",
      " 5   ever_married       10204 non-null  object \n",
      " 6   work_type          10204 non-null  object \n",
      " 7   Residence_type     10204 non-null  object \n",
      " 8   avg_glucose_level  10204 non-null  float64\n",
      " 9   bmi                10204 non-null  float64\n",
      " 10  smoking_status     10204 non-null  object \n",
      "dtypes: float64(3), int64(3), object(5)\n",
      "memory usage: 877.0+ KB\n"
     ]
    }
   ],
   "source": [
    "test.info()"
   ]
  },
  {
   "cell_type": "code",
   "execution_count": 5,
   "id": "0007deca",
   "metadata": {},
   "outputs": [
    {
     "data": {
      "text/html": [
       "<div>\n",
       "<style scoped>\n",
       "    .dataframe tbody tr th:only-of-type {\n",
       "        vertical-align: middle;\n",
       "    }\n",
       "\n",
       "    .dataframe tbody tr th {\n",
       "        vertical-align: top;\n",
       "    }\n",
       "\n",
       "    .dataframe thead th {\n",
       "        text-align: right;\n",
       "    }\n",
       "</style>\n",
       "<table border=\"1\" class=\"dataframe\">\n",
       "  <thead>\n",
       "    <tr style=\"text-align: right;\">\n",
       "      <th></th>\n",
       "      <th>id</th>\n",
       "      <th>gender</th>\n",
       "      <th>age</th>\n",
       "      <th>hypertension</th>\n",
       "      <th>heart_disease</th>\n",
       "      <th>ever_married</th>\n",
       "      <th>work_type</th>\n",
       "      <th>Residence_type</th>\n",
       "      <th>avg_glucose_level</th>\n",
       "      <th>bmi</th>\n",
       "      <th>smoking_status</th>\n",
       "      <th>stroke</th>\n",
       "    </tr>\n",
       "  </thead>\n",
       "  <tbody>\n",
       "    <tr>\n",
       "      <th>0</th>\n",
       "      <td>0</td>\n",
       "      <td>Male</td>\n",
       "      <td>28.0</td>\n",
       "      <td>0</td>\n",
       "      <td>0</td>\n",
       "      <td>Yes</td>\n",
       "      <td>Private</td>\n",
       "      <td>Urban</td>\n",
       "      <td>79.53</td>\n",
       "      <td>31.1</td>\n",
       "      <td>never smoked</td>\n",
       "      <td>0</td>\n",
       "    </tr>\n",
       "    <tr>\n",
       "      <th>1</th>\n",
       "      <td>1</td>\n",
       "      <td>Male</td>\n",
       "      <td>33.0</td>\n",
       "      <td>0</td>\n",
       "      <td>0</td>\n",
       "      <td>Yes</td>\n",
       "      <td>Private</td>\n",
       "      <td>Rural</td>\n",
       "      <td>78.44</td>\n",
       "      <td>23.9</td>\n",
       "      <td>formerly smoked</td>\n",
       "      <td>0</td>\n",
       "    </tr>\n",
       "    <tr>\n",
       "      <th>2</th>\n",
       "      <td>2</td>\n",
       "      <td>Female</td>\n",
       "      <td>42.0</td>\n",
       "      <td>0</td>\n",
       "      <td>0</td>\n",
       "      <td>Yes</td>\n",
       "      <td>Private</td>\n",
       "      <td>Rural</td>\n",
       "      <td>103.00</td>\n",
       "      <td>40.3</td>\n",
       "      <td>Unknown</td>\n",
       "      <td>0</td>\n",
       "    </tr>\n",
       "  </tbody>\n",
       "</table>\n",
       "</div>"
      ],
      "text/plain": [
       "   id  gender   age  hypertension  heart_disease ever_married work_type  \\\n",
       "0   0    Male  28.0             0              0          Yes   Private   \n",
       "1   1    Male  33.0             0              0          Yes   Private   \n",
       "2   2  Female  42.0             0              0          Yes   Private   \n",
       "\n",
       "  Residence_type  avg_glucose_level   bmi   smoking_status  stroke  \n",
       "0          Urban              79.53  31.1     never smoked       0  \n",
       "1          Rural              78.44  23.9  formerly smoked       0  \n",
       "2          Rural             103.00  40.3          Unknown       0  "
      ]
     },
     "execution_count": 5,
     "metadata": {},
     "output_type": "execute_result"
    }
   ],
   "source": [
    "train.head(3)"
   ]
  },
  {
   "cell_type": "code",
   "execution_count": 6,
   "id": "98f10ffe",
   "metadata": {},
   "outputs": [],
   "source": [
    "check = train.drop('id',axis=1).copy()\n",
    "check['hypertension'].replace([0,1], ['No','Yes'], inplace=True)\n",
    "check['heart_disease'].replace([0,1], ['No','Yes'], inplace=True)\n",
    "# num_cols = ['age','avg_glucose_level','bmi']\n",
    "# bool_cols = ['hypertension','heart_disease','ever_married']\n",
    "# cat_cols = ['gender','work_type','Residence_type','smoking_status']"
   ]
  },
  {
   "cell_type": "code",
   "execution_count": 7,
   "id": "71ceb64f",
   "metadata": {},
   "outputs": [
    {
     "data": {
      "text/html": [
       "<div>\n",
       "<style scoped>\n",
       "    .dataframe tbody tr th:only-of-type {\n",
       "        vertical-align: middle;\n",
       "    }\n",
       "\n",
       "    .dataframe tbody tr th {\n",
       "        vertical-align: top;\n",
       "    }\n",
       "\n",
       "    .dataframe thead th {\n",
       "        text-align: right;\n",
       "    }\n",
       "</style>\n",
       "<table border=\"1\" class=\"dataframe\">\n",
       "  <thead>\n",
       "    <tr style=\"text-align: right;\">\n",
       "      <th></th>\n",
       "      <th>age</th>\n",
       "      <th>avg_glucose_level</th>\n",
       "      <th>bmi</th>\n",
       "      <th>stroke</th>\n",
       "    </tr>\n",
       "  </thead>\n",
       "  <tbody>\n",
       "    <tr>\n",
       "      <th>count</th>\n",
       "      <td>15304.000000</td>\n",
       "      <td>15304.000000</td>\n",
       "      <td>15304.000000</td>\n",
       "      <td>15304.000000</td>\n",
       "    </tr>\n",
       "    <tr>\n",
       "      <th>mean</th>\n",
       "      <td>41.417708</td>\n",
       "      <td>89.039853</td>\n",
       "      <td>28.112721</td>\n",
       "      <td>0.041296</td>\n",
       "    </tr>\n",
       "    <tr>\n",
       "      <th>std</th>\n",
       "      <td>21.444673</td>\n",
       "      <td>25.476102</td>\n",
       "      <td>6.722315</td>\n",
       "      <td>0.198981</td>\n",
       "    </tr>\n",
       "    <tr>\n",
       "      <th>min</th>\n",
       "      <td>0.080000</td>\n",
       "      <td>55.220000</td>\n",
       "      <td>10.300000</td>\n",
       "      <td>0.000000</td>\n",
       "    </tr>\n",
       "    <tr>\n",
       "      <th>25%</th>\n",
       "      <td>26.000000</td>\n",
       "      <td>74.900000</td>\n",
       "      <td>23.500000</td>\n",
       "      <td>0.000000</td>\n",
       "    </tr>\n",
       "    <tr>\n",
       "      <th>50%</th>\n",
       "      <td>43.000000</td>\n",
       "      <td>85.120000</td>\n",
       "      <td>27.600000</td>\n",
       "      <td>0.000000</td>\n",
       "    </tr>\n",
       "    <tr>\n",
       "      <th>75%</th>\n",
       "      <td>57.000000</td>\n",
       "      <td>96.980000</td>\n",
       "      <td>32.000000</td>\n",
       "      <td>0.000000</td>\n",
       "    </tr>\n",
       "    <tr>\n",
       "      <th>max</th>\n",
       "      <td>82.000000</td>\n",
       "      <td>267.600000</td>\n",
       "      <td>80.100000</td>\n",
       "      <td>1.000000</td>\n",
       "    </tr>\n",
       "  </tbody>\n",
       "</table>\n",
       "</div>"
      ],
      "text/plain": [
       "                age  avg_glucose_level           bmi        stroke\n",
       "count  15304.000000       15304.000000  15304.000000  15304.000000\n",
       "mean      41.417708          89.039853     28.112721      0.041296\n",
       "std       21.444673          25.476102      6.722315      0.198981\n",
       "min        0.080000          55.220000     10.300000      0.000000\n",
       "25%       26.000000          74.900000     23.500000      0.000000\n",
       "50%       43.000000          85.120000     27.600000      0.000000\n",
       "75%       57.000000          96.980000     32.000000      0.000000\n",
       "max       82.000000         267.600000     80.100000      1.000000"
      ]
     },
     "execution_count": 7,
     "metadata": {},
     "output_type": "execute_result"
    }
   ],
   "source": [
    "num = check.describe()\n",
    "num_cols = list(num.drop('stroke',axis=1).columns)\n",
    "num"
   ]
  },
  {
   "cell_type": "code",
   "execution_count": 8,
   "id": "b1ec81e8",
   "metadata": {},
   "outputs": [
    {
     "data": {
      "text/html": [
       "<div>\n",
       "<style scoped>\n",
       "    .dataframe tbody tr th:only-of-type {\n",
       "        vertical-align: middle;\n",
       "    }\n",
       "\n",
       "    .dataframe tbody tr th {\n",
       "        vertical-align: top;\n",
       "    }\n",
       "\n",
       "    .dataframe thead th {\n",
       "        text-align: right;\n",
       "    }\n",
       "</style>\n",
       "<table border=\"1\" class=\"dataframe\">\n",
       "  <thead>\n",
       "    <tr style=\"text-align: right;\">\n",
       "      <th></th>\n",
       "      <th>gender</th>\n",
       "      <th>hypertension</th>\n",
       "      <th>heart_disease</th>\n",
       "      <th>ever_married</th>\n",
       "      <th>work_type</th>\n",
       "      <th>Residence_type</th>\n",
       "      <th>smoking_status</th>\n",
       "    </tr>\n",
       "  </thead>\n",
       "  <tbody>\n",
       "    <tr>\n",
       "      <th>count</th>\n",
       "      <td>15304</td>\n",
       "      <td>15304</td>\n",
       "      <td>15304</td>\n",
       "      <td>15304</td>\n",
       "      <td>15304</td>\n",
       "      <td>15304</td>\n",
       "      <td>15304</td>\n",
       "    </tr>\n",
       "    <tr>\n",
       "      <th>unique</th>\n",
       "      <td>3</td>\n",
       "      <td>2</td>\n",
       "      <td>2</td>\n",
       "      <td>2</td>\n",
       "      <td>5</td>\n",
       "      <td>2</td>\n",
       "      <td>4</td>\n",
       "    </tr>\n",
       "    <tr>\n",
       "      <th>top</th>\n",
       "      <td>Female</td>\n",
       "      <td>No</td>\n",
       "      <td>No</td>\n",
       "      <td>Yes</td>\n",
       "      <td>Private</td>\n",
       "      <td>Rural</td>\n",
       "      <td>never smoked</td>\n",
       "    </tr>\n",
       "    <tr>\n",
       "      <th>freq</th>\n",
       "      <td>9446</td>\n",
       "      <td>14543</td>\n",
       "      <td>14947</td>\n",
       "      <td>10385</td>\n",
       "      <td>9752</td>\n",
       "      <td>7664</td>\n",
       "      <td>6281</td>\n",
       "    </tr>\n",
       "  </tbody>\n",
       "</table>\n",
       "</div>"
      ],
      "text/plain": [
       "        gender hypertension heart_disease ever_married work_type  \\\n",
       "count    15304        15304         15304        15304     15304   \n",
       "unique       3            2             2            2         5   \n",
       "top     Female           No            No          Yes   Private   \n",
       "freq      9446        14543         14947        10385      9752   \n",
       "\n",
       "       Residence_type smoking_status  \n",
       "count           15304          15304  \n",
       "unique              2              4  \n",
       "top             Rural   never smoked  \n",
       "freq             7664           6281  "
      ]
     },
     "execution_count": 8,
     "metadata": {},
     "output_type": "execute_result"
    }
   ],
   "source": [
    "cat = check.describe(include=['O'])\n",
    "cat_cols = list(cat.columns)\n",
    "cat"
   ]
  },
  {
   "cell_type": "code",
   "execution_count": 9,
   "id": "1991a479",
   "metadata": {},
   "outputs": [
    {
     "data": {
      "image/png": "[encoded data removed]",
      "text/plain": [
       "<Figure size 1000x400 with 3 Axes>"
      ]
     },
     "metadata": {},
     "output_type": "display_data"
    }
   ],
   "source": [
    "fig, ax = plt.subplots(1,3, figsize=(10,4), constrained_layout=True)\n",
    "for i,col in enumerate(num_cols):\n",
    "    sns.histplot(data=check, x=col, hue='stroke', bins=50, alpha=0.2, ax=ax[i])\n",
    "fig.suptitle('- histplot of num columns -')\n",
    "plt.show()"
   ]
  },
  {
   "cell_type": "code",
   "execution_count": 10,
   "id": "b7bd0c33",
   "metadata": {},
   "outputs": [
    {
     "data": {
      "image/png": "[encoded data removed]",
      "text/plain": [
       "<Figure size 1000x400 with 3 Axes>"
      ]
     },
     "metadata": {},
     "output_type": "display_data"
    }
   ],
   "source": [
    "fig, ax = plt.subplots(1,3, figsize=(10,4), constrained_layout=True)\n",
    "for i,col in enumerate(cat_cols[:3]):\n",
    "    sns.histplot(data=check, x=col, hue='stroke', bins=2, alpha=0.2, ax=ax[i], binwidth=0.5)\n",
    "fig.suptitle('- histplot of bool columns -')\n",
    "plt.show()"
   ]
  },
  {
   "cell_type": "code",
   "execution_count": 11,
   "id": "ec6ccd4a",
   "metadata": {},
   "outputs": [
    {
     "data": {
      "image/png": "[encoded data removed]",
      "text/plain": [
       "<Figure size 1000x400 with 4 Axes>"
      ]
     },
     "metadata": {},
     "output_type": "display_data"
    }
   ],
   "source": [
    "fig, ax = plt.subplots(1,4, figsize=(10,4), constrained_layout=True)\n",
    "for i,col in enumerate(cat_cols[3:]):\n",
    "    sns.histplot(data=check, x=col, hue='stroke', alpha=0.2, ax=ax[i])\n",
    "fig.suptitle('- histplot of category columns -')\n",
    "plt.show()"
   ]
  },
  {
   "cell_type": "code",
   "execution_count": 99,
   "id": "0c803004",
   "metadata": {},
   "outputs": [],
   "source": [
    "from sklearn.base import BaseEstimator, TransformerMixin\n",
    "\n",
    "class myFitTrans(BaseEstimator, TransformerMixin):\n",
    "    def __init__(self, gend_trans=False, smoke_trans=False, \n",
    "                 agebmi=False, bmiprime=False, obesity=False, blood=False):\n",
    "        self.gend_trans = gend_trans\n",
    "        self.smoke_trans = smoke_trans\n",
    "        self.agebmi = agebmi; self.bmiprime = bmiprime\n",
    "        self.obesity = obesity; self.blood = blood\n",
    "    def fit(self, X, y=None):\n",
    "        return self\n",
    "    def transform(self, X):\n",
    "        if self.gend_trans:\n",
    "            X['gender'].replace(['Other'], \n",
    "                                list(check['gender'].mode()), inplace=True)\n",
    "        if self.smoke_trans:\n",
    "            X['smoking_status'].replace(['Unknown'],['never smoked'])\n",
    "        if self.agebmi:\n",
    "            X['age/bmi'] = X['age']/X['bmi']\n",
    "            X['age*bmi'] = X['age']*X['bmi']\n",
    "        if self.bmiprime:\n",
    "            X['bmi/prime'] = X['bmi']/25\n",
    "        if self.obesity:\n",
    "            X['obesity'] = X['avg_glucose_level']*X['bmi']/1000\n",
    "        if self.blood:\n",
    "            X['blood_heart'] = X['hypertension']*X['heart_disease']\n",
    "        return X"
   ]
  },
  {
   "cell_type": "code",
   "execution_count": 100,
   "id": "0af47315",
   "metadata": {},
   "outputs": [],
   "source": [
    "from sklearn.pipeline import Pipeline\n",
    "from sklearn.compose import ColumnTransformer\n",
    "from sklearn.preprocessing import OneHotEncoder\n",
    "pipe = Pipeline([('myTrans', myFitTrans()),\n",
    "                 ('onehot', ColumnTransformer([\n",
    "                            ('cat', OneHotEncoder(drop='if_binary'), cat_cols)\n",
    "                            ], remainder='passthrough'))\n",
    "                 ])"
   ]
  },
  {
   "cell_type": "code",
   "execution_count": null,
   "id": "c40f7e76",
   "metadata": {},
   "outputs": [],
   "source": []
  },
  {
   "cell_type": "code",
   "execution_count": 91,
   "id": "9e74498e",
   "metadata": {},
   "outputs": [],
   "source": [
    "from sklearn.svm import SVC\n",
    "from sklearn.neighbors import KNeighborsClassifier\n",
    "from sklearn.gaussian_process import GaussianProcessClassifier\n",
    "from sklearn.naive_bayes import GaussianNB\n",
    "from sklearn.tree import DecisionTreeClassifier\n",
    "from sklearn.ensemble import BaggingClassifier\n",
    "from sklearn.ensemble import RandomForestClassifier\n",
    "from sklearn.ensemble import AdaBoostClassifier\n",
    "from sklearn.ensemble import GradientBoostingClassifier\n",
    "from sklearn.ensemble import HistGradientBoostingClassifier\n",
    "from sklearn.ensemble import VotingClassifier\n",
    "from sklearn.ensemble import StackingClassifier\n",
    "from sklearn.neural_network import MLPClassifier\n",
    "from xgboost.sklearn import XGBClassifier\n",
    "\n",
    "from sklearn.model_selection import cross_val_score\n",
    "from sklearn.model_selection import cross_validate"
   ]
  },
  {
   "cell_type": "code",
   "execution_count": 101,
   "id": "418fe072",
   "metadata": {},
   "outputs": [
    {
     "name": "stderr",
     "output_type": "stream",
     "text": [
      "C:\\Users\\Playdata\\anaconda3\\lib\\site-packages\\sklearn\\model_selection\\_search.py:952: UserWarning: One or more of the test scores are non-finite: [0.8840127  0.88406058 0.88507726 0.88509097        nan        nan\n",
      "        nan        nan 0.8840369  0.88405411 0.88512218 0.88511638\n",
      "        nan        nan        nan        nan 0.88402647 0.88404222\n",
      " 0.88523377 0.88537844        nan        nan        nan        nan\n",
      " 0.88406581 0.88396662 0.88533333 0.88539021        nan        nan\n",
      "        nan        nan 0.88495333 0.88497217 0.88453793 0.88461219\n",
      "        nan        nan        nan        nan 0.88493269 0.88495925\n",
      " 0.88456441 0.88460887        nan        nan        nan        nan\n",
      " 0.88468324 0.88464059 0.88568153 0.88570321        nan        nan\n",
      "        nan        nan 0.88465527 0.88463319 0.88575729 0.88570867\n",
      "        nan        nan        nan        nan]\n",
      "  warnings.warn(\n"
     ]
    },
    {
     "data": {
      "text/plain": [
       "({'ori_pipe__myTrans__agebmi': False,\n",
       "  'ori_pipe__myTrans__blood': False,\n",
       "  'ori_pipe__myTrans__bmiprime': False,\n",
       "  'ori_pipe__myTrans__gend_trans': True,\n",
       "  'ori_pipe__myTrans__obesity': False,\n",
       "  'ori_pipe__myTrans__smoke_trans': True},\n",
       " 0.8857572936302944)"
      ]
     },
     "execution_count": 101,
     "metadata": {},
     "output_type": "execute_result"
    }
   ],
   "source": [
    "# check\n",
    "from sklearn.model_selection import GridSearchCV\n",
    "check_pipe = Pipeline([('ori_pipe', pipe),\n",
    "                       ('gboost', GradientBoostingClassifier())])\n",
    "checkSearch = GridSearchCV(check_pipe, param_grid={\n",
    "                    'ori_pipe__myTrans__gend_trans' : [True, False],\n",
    "                    'ori_pipe__myTrans__smoke_trans' :  [True, False],\n",
    "                    'ori_pipe__myTrans__agebmi' :  [True, False],\n",
    "                    'ori_pipe__myTrans__bmiprime' :  [True, False],\n",
    "                    'ori_pipe__myTrans__obesity' :  [True, False],\n",
    "                    'ori_pipe__myTrans__blood' :  [True, False]},\n",
    "                n_jobs=-1, cv=5, scoring='roc_auc', return_train_score=True)\n",
    "checkSearch.fit(train.drop(columns=['id','stroke']), train['stroke'].copy())\n",
    "checkSearch.best_params_, checkSearch.best_score_"
   ]
  },
  {
   "cell_type": "code",
   "execution_count": 50,
   "id": "ae8716e2",
   "metadata": {},
   "outputs": [],
   "source": [
    "setpipe = checkSearch.best_estimator_[:-1]"
   ]
  },
  {
   "cell_type": "code",
   "execution_count": 62,
   "id": "a5aedd79",
   "metadata": {},
   "outputs": [],
   "source": [
    "X = setpipe.fit_transform(train.drop(columns=['id','stroke']))\n",
    "y = train['stroke'].copy()\n",
    "scoring = 'roc_auc'\n",
    "cv = 5\n",
    "score = {}"
   ]
  },
  {
   "cell_type": "code",
   "execution_count": 61,
   "id": "261be1a4",
   "metadata": {},
   "outputs": [],
   "source": [
    "models = ['svc','gp','nb','bag','tree','rndF', # 'knn','vote',\n",
    "          'adaB','gboost','Hgboost','stack','mlp', 'xgb'] \n",
    "svc = SVC()\n",
    "# knn = KNeighborsClassifier()\n",
    "gp = GaussianProcessClassifier()\n",
    "nb = GaussianNB()\n",
    "bag = BaggingClassifier()\n",
    "tree = DecisionTreeClassifier()\n",
    "rndF = RandomForestClassifier()\n",
    "adaB = AdaBoostClassifier()\n",
    "gboost = GradientBoostingClassifier()\n",
    "Hgboost = HistGradientBoostingClassifier()\n",
    "# vote = VotingClassifier(estimators=[('svc',svc),('nb',nb),('tree',tree),('rndF',rndF)], \n",
    "#                         voting='soft')\n",
    "stack = StackingClassifier(estimators=[('svc',svc),('nb',nb),('tree',tree),('rndF',rndF)])\n",
    "mlp = MLPClassifier()\n",
    "xgb = XGBClassifier()"
   ]
  },
  {
   "cell_type": "code",
   "execution_count": 63,
   "id": "20aafc53",
   "metadata": {},
   "outputs": [
    {
     "name": "stdout",
     "output_type": "stream",
     "text": [
      "svc complete\n",
      "nb complete\n",
      "bag complete\n",
      "tree complete\n",
      "rndF complete\n",
      "adaB complete\n",
      "gboost complete\n",
      "Hgboost complete\n",
      "mlp complete\n",
      "xgb complete\n"
     ]
    }
   ],
   "source": [
    "for model in models:\n",
    "    if model=='gp' or model=='stack': continue\n",
    "    score[model] = cross_validate(eval(model), X, y, cv=cv, scoring=scoring)\n",
    "    print(model,'complete')"
   ]
  },
  {
   "cell_type": "code",
   "execution_count": 64,
   "id": "326cd43f",
   "metadata": {
    "scrolled": true
   },
   "outputs": [
    {
     "name": "stdout",
     "output_type": "stream",
     "text": [
      "- svc           | time: 3.731 | 평균: 0.497\n",
      "- nb            | time: 0.031 | 평균: 0.833\n",
      "- bag           | time: 1.173 | 평균: 0.779\n",
      "- tree          | time: 0.143 | 평균: 0.591\n",
      "- rndF          | time: 4.272 | 평균: 0.848\n",
      "- adaB          | time: 1.794 | 평균: 0.883\n",
      "- gboost        | time: 5.295 | 평균: 0.886\n",
      "- Hgboost       | time: 1.039 | 평균: 0.876\n",
      "- mlp           | time: 9.976 | 평균: 0.869\n",
      "- xgb           | time: 1.546 | 평균: 0.863\n"
     ]
    }
   ],
   "source": [
    "for k,v in score.items():\n",
    "    print('- {0:<14}|'.format(k), \n",
    "          'time:',round(sum(v['fit_time'])+sum(v['score_time']),3), end=' ')\n",
    "    print('| 평균:', round(v['test_score'].mean(),3))"
   ]
  },
  {
   "cell_type": "markdown",
   "id": "6a7a0222",
   "metadata": {},
   "source": [
    "**roc_auc**\n",
    "|(onehot)|time|평균|(+gender)|time |평균|(+smoke)|time|평균\n",
    "|:---|---:|---:|:---|---:|---:|:---|---:|---:|\n",
    "|svc           | 3.76 |  0.659       ||   3.594 |   0.497||3.636 | 0.497\n",
    "|knn           | 0.055 | nan         || |||||\n",
    "|gp            | 970.667 |  0.72     ||   979.088 |   0.721|||\n",
    "|nb            | 0.063 |  0.832      ||  0.031 |  0.833||0.031 | 0.833\n",
    "|bag           | 1.204 |  0.765      ||   1.222 |  0.778||1.134 | 0.767\n",
    "|tree          | 0.156 |  0.585      ||   0.15 |  0.579||0.173 | 0.593\n",
    "|rndF          | 3.833 |  0.843      ||    4.097 |  0.848||4.095 | 0.847\n",
    "|adaB          |  1.661 |  0.883     ||   1.677 |  0.883||1.689 | 0.883\n",
    "|gboost        |  5.271 |  0.886     ||   5.174 |  0.886||5.253 | 0.886\n",
    "|Hgboost       |  0.996 |  0.879     ||   1.071 |  0.877||1.021 | 0.876\n",
    "|vote          |  6.253 |  nan       || |||||\n",
    "|stack         |  36.765 |  0.856    ||   37.71 | 0.862||39.389 | 0.86\n",
    "|mlp           |  13.2 |  0.878      ||   12.255 | 0.871||9.277 | 0.87\n",
    "|xgb|||||||1.546 | 0.863"
   ]
  },
  {
   "cell_type": "code",
   "execution_count": null,
   "id": "ebec1786",
   "metadata": {},
   "outputs": [],
   "source": [
    "# => adaB, gboost, Hgboost"
   ]
  },
  {
   "cell_type": "code",
   "execution_count": 44,
   "id": "7699a404",
   "metadata": {},
   "outputs": [
    {
     "data": {
      "text/plain": [
       "({'algorithm': 'SAMME.R', 'learning_rate': 0.5, 'n_estimators': 50},\n",
       " 0.8857168576170233)"
      ]
     },
     "execution_count": 44,
     "metadata": {},
     "output_type": "execute_result"
    }
   ],
   "source": [
    "from sklearn.model_selection import GridSearchCV\n",
    "param_grid = [{'n_estimators':[10,30,50,70],\n",
    "               'learning_rate':[0.5,1,2,5],\n",
    "               'algorithm':['SAMME','SAMME.R']}]\n",
    "adaB_gs = GridSearchCV(adaB, param_grid, cv=cv, n_jobs=-1, \n",
    "                       scoring=scoring, return_train_score=True)\n",
    "adaB_gs.fit(X,y)\n",
    "adaB_gs.best_params_, adaB_gs.best_score_"
   ]
  },
  {
   "cell_type": "code",
   "execution_count": 106,
   "id": "9ac5ed3d",
   "metadata": {},
   "outputs": [
    {
     "data": {
      "text/plain": [
       "({'learning_rate': 0.1, 'n_estimators': 50}, 0.88578558115034)"
      ]
     },
     "execution_count": 106,
     "metadata": {},
     "output_type": "execute_result"
    }
   ],
   "source": [
    "param_grid = [{'learning_rate':[0.05,0.1,0.5],\n",
    "               'n_estimators':[30,50,80,100]}]\n",
    "gboost_gs = GridSearchCV(gboost, param_grid, cv=cv, n_jobs=-1, \n",
    "                       scoring=scoring, return_train_score=True)\n",
    "gboost_gs.fit(X,y)\n",
    "gboost_gs.best_params_, gboost_gs.best_score_"
   ]
  },
  {
   "cell_type": "code",
   "execution_count": 107,
   "id": "64c91818",
   "metadata": {},
   "outputs": [
    {
     "data": {
      "text/plain": [
       "({'learning_rate': 0.05, 'max_iter': 30}, 0.8801171528367547)"
      ]
     },
     "execution_count": 107,
     "metadata": {},
     "output_type": "execute_result"
    }
   ],
   "source": [
    "param_grid = [{'learning_rate':[0.05,0.1,0.5],\n",
    "               'max_iter':[30,50,80,100]}]\n",
    "Hgboost_gs = GridSearchCV(Hgboost, param_grid, cv=cv, n_jobs=-1, \n",
    "                       scoring=scoring, return_train_score=True)\n",
    "Hgboost_gs.fit(X,y)\n",
    "Hgboost_gs.best_params_, Hgboost_gs.best_score_"
   ]
  },
  {
   "cell_type": "code",
   "execution_count": 108,
   "id": "38081560",
   "metadata": {},
   "outputs": [
    {
     "name": "stdout",
     "output_type": "stream",
     "text": [
      "---------- adaB_gs ----------\n",
      "{'algorithm': 'SAMME.R', 'learning_rate': 0.5, 'n_estimators': 50}\n",
      "score: 0.886\n",
      "---------- gboost_gs ----------\n",
      "{'learning_rate': 0.1, 'n_estimators': 50}\n",
      "score: 0.886\n",
      "---------- Hgboost_gs ----------\n",
      "{'learning_rate': 0.05, 'max_iter': 30}\n",
      "score: 0.88\n",
      "\n",
      "best model: gboost_gs\n"
     ]
    }
   ],
   "source": [
    "gs_li = ['adaB_gs', 'gboost_gs', 'Hgboost_gs']\n",
    "best_score = 0; best_model = ''\n",
    "for gs in gs_li:\n",
    "    print('-'*10, gs, '-'*10)\n",
    "    print(eval(gs).best_params_)\n",
    "    print('score:', round(eval(gs).best_score_,3))\n",
    "    if best_score<=eval(gs).best_score_:\n",
    "        best_score = eval(gs).best_score_\n",
    "        best_model = gs\n",
    "print('\\nbest model:',best_model)"
   ]
  },
  {
   "cell_type": "code",
   "execution_count": 109,
   "id": "75b41688",
   "metadata": {},
   "outputs": [
    {
     "data": {
      "text/html": [
       "<div>\n",
       "<style scoped>\n",
       "    .dataframe tbody tr th:only-of-type {\n",
       "        vertical-align: middle;\n",
       "    }\n",
       "\n",
       "    .dataframe tbody tr th {\n",
       "        vertical-align: top;\n",
       "    }\n",
       "\n",
       "    .dataframe thead th {\n",
       "        text-align: right;\n",
       "    }\n",
       "</style>\n",
       "<table border=\"1\" class=\"dataframe\">\n",
       "  <thead>\n",
       "    <tr style=\"text-align: right;\">\n",
       "      <th></th>\n",
       "      <th>id</th>\n",
       "      <th>stroke</th>\n",
       "    </tr>\n",
       "  </thead>\n",
       "  <tbody>\n",
       "    <tr>\n",
       "      <th>0</th>\n",
       "      <td>15304</td>\n",
       "      <td>0</td>\n",
       "    </tr>\n",
       "    <tr>\n",
       "      <th>1</th>\n",
       "      <td>15305</td>\n",
       "      <td>0</td>\n",
       "    </tr>\n",
       "    <tr>\n",
       "      <th>2</th>\n",
       "      <td>15306</td>\n",
       "      <td>0</td>\n",
       "    </tr>\n",
       "  </tbody>\n",
       "</table>\n",
       "</div>"
      ],
      "text/plain": [
       "      id  stroke\n",
       "0  15304       0\n",
       "1  15305       0\n",
       "2  15306       0"
      ]
     },
     "execution_count": 109,
     "metadata": {},
     "output_type": "execute_result"
    }
   ],
   "source": [
    "test_X = setpipe.fit_transform(test.drop(columns=['id']))\n",
    "pred = eval(best_model).predict(test_X)\n",
    "submission['stroke'] = pred\n",
    "submission.head(3)"
   ]
  },
  {
   "cell_type": "code",
   "execution_count": 110,
   "id": "e980701d",
   "metadata": {},
   "outputs": [],
   "source": [
    "ver = '1'\n",
    "submission.to_csv('./output/submission_PGs3e2_{}.csv'.format(ver), index=False)"
   ]
  },
  {
   "cell_type": "markdown",
   "id": "00cf4760",
   "metadata": {},
   "source": [
    "- ver1: 0.52071 +smoke, gboost(learning_rate=0.1,n_estimators=50)"
   ]
  },
  {
   "cell_type": "code",
   "execution_count": 112,
   "id": "812f5b80",
   "metadata": {},
   "outputs": [
    {
     "data": {
      "text/plain": [
       "({'gboost__learning_rate': 0.05, 'gboost__n_estimators': 100},\n",
       " 0.8842716411334628)"
      ]
     },
     "execution_count": 112,
     "metadata": {},
     "output_type": "execute_result"
    }
   ],
   "source": [
    "# gend_trans=False,smoke_trans=False,agebmi=False,bmiprime=False,obesity=False,blood=False\n",
    "true_pipe = Pipeline([('myTrans', myFitTrans(True,True,True,True,True,True)),\n",
    "                      ('onehot', ColumnTransformer([\n",
    "                                 ('cat', OneHotEncoder(drop='if_binary'), cat_cols)\n",
    "                                 ], remainder='passthrough')),\n",
    "                      ('gboost', GradientBoostingClassifier())])\n",
    "param_grid = [{'gboost__learning_rate':[0.05,0.1,0.5],\n",
    "               'gboost__n_estimators':[30,50,80,100]}]\n",
    "gboost_gs2 = GridSearchCV(true_pipe, param_grid, cv=cv, n_jobs=-1, \n",
    "                       scoring=scoring, return_train_score=True)\n",
    "gboost_gs2.fit(train.drop(columns=['id','stroke']), train['stroke'].copy())\n",
    "gboost_gs2.best_params_, gboost_gs2.best_score_"
   ]
  },
  {
   "cell_type": "code",
   "execution_count": 114,
   "id": "84cd9c04",
   "metadata": {},
   "outputs": [],
   "source": [
    "pred = gboost_gs2.predict(test.drop(columns=['id']))\n",
    "submission['stroke'] = pred\n",
    "ver = '2'\n",
    "submission.to_csv('./output/submission_PGs3e2_{}.csv'.format(ver), index=False)"
   ]
  },
  {
   "cell_type": "markdown",
   "id": "a9c43c18",
   "metadata": {},
   "source": [
    "- ver2: 0.524 +addcols, gboost(learning_rate=0.05,n_estimators=100)"
   ]
  },
  {
   "cell_type": "code",
   "execution_count": null,
   "id": "7c5ce6f7",
   "metadata": {},
   "outputs": [],
   "source": []
  },
  {
   "cell_type": "code",
   "execution_count": null,
   "id": "5007056c",
   "metadata": {},
   "outputs": [],
   "source": []
  },
  {
   "cell_type": "code",
   "execution_count": null,
   "id": "34c6b8b6",
   "metadata": {},
   "outputs": [],
   "source": []
  },
  {
   "cell_type": "code",
   "execution_count": null,
   "id": "b31a21d0",
   "metadata": {},
   "outputs": [],
   "source": [
    "# class sklearn.svm.SVC(*, C=1.0, kernel='rbf', degree=3, gamma='scale', coef0=0.0, shrinking=True, probability=False, tol=0.001, cache_size=200, class_weight=None, verbose=False, max_iter=-1, decision_function_shape='ovr', break_ties=False, random_state=None)\n",
    "# class sklearn.svm.LinearSVC(penalty='l2', loss='squared_hinge', *, dual=True, tol=0.0001, C=1.0, multi_class='ovr', fit_intercept=True, intercept_scaling=1, class_weight=None, verbose=0, random_state=None, max_iter=1000)\n",
    "# class sklearn.linear_model.SGDClassifier(loss='hinge', *, penalty='l2', alpha=0.0001, l1_ratio=0.15, fit_intercept=True, max_iter=1000, tol=0.001, shuffle=True, verbose=0, epsilon=0.1, n_jobs=None, random_state=None, learning_rate='optimal', eta0=0.0, power_t=0.5, early_stopping=False, validation_fraction=0.1, n_iter_no_change=5, class_weight=None, warm_start=False, average=False)\n",
    "# class sklearn.neighbors.KNeighborsClassifier(n_neighbors=5, *, weights='uniform', algorithm='auto', leaf_size=30, p=2, metric='minkowski', metric_params=None, n_jobs=None)\n",
    "# class sklearn.gaussian_process.GaussianProcessClassifier(kernel=None, *, optimizer='fmin_l_bfgs_b', n_restarts_optimizer=0, max_iter_predict=100, warm_start=False, copy_X_train=True, random_state=None, multi_class='one_vs_rest', n_jobs=None)\n",
    "# ? class sklearn.naive_bayes.GaussianNB(*, priors=None, var_smoothing=1e-09)[source]\n",
    "# class sklearn.tree.DecisionTreeClassifier(*, criterion='gini', splitter='best', max_depth=None, min_samples_split=2, min_samples_leaf=1, min_weight_fraction_leaf=0.0, max_features=None, random_state=None, max_leaf_nodes=None, min_impurity_decrease=0.0, class_weight=None, ccp_alpha=0.0)\n",
    "# class sklearn.ensemble.BaggingClassifier(estimator=None, n_estimators=10, *, max_samples=1.0, max_features=1.0, bootstrap=True, bootstrap_features=False, oob_score=False, warm_start=False, n_jobs=None, random_state=None, verbose=0, base_estimator='deprecated')\n",
    "# class sklearn.ensemble.RandomForestClassifier(n_estimators=100, *, criterion='gini', max_depth=None, min_samples_split=2, min_samples_leaf=1, min_weight_fraction_leaf=0.0, max_features='sqrt', max_leaf_nodes=None, min_impurity_decrease=0.0, bootstrap=True, oob_score=False, n_jobs=None, random_state=None, verbose=0, warm_start=False, class_weight=None, ccp_alpha=0.0, max_samples=None)\n",
    "# class sklearn.ensemble.AdaBoostClassifier(estimator=None, *, n_estimators=50, learning_rate=1.0, algorithm='SAMME.R', random_state=None, base_estimator='deprecated')\n",
    "# class sklearn.ensemble.GradientBoostingClassifier(*, loss='log_loss', learning_rate=0.1, n_estimators=100, subsample=1.0, criterion='friedman_mse', min_samples_split=2, min_samples_leaf=1, min_weight_fraction_leaf=0.0, max_depth=3, min_impurity_decrease=0.0, init=None, random_state=None, max_features=None, verbose=0, max_leaf_nodes=None, warm_start=False, validation_fraction=0.1, n_iter_no_change=None, tol=0.0001, ccp_alpha=0.0)\n",
    "# class sklearn.ensemble.HistGradientBoostingClassifier(loss='log_loss', *, learning_rate=0.1, max_iter=100, max_leaf_nodes=31, max_depth=None, min_samples_leaf=20, l2_regularization=0.0, max_bins=255, categorical_features=None, monotonic_cst=None, interaction_cst=None, warm_start=False, early_stopping='auto', scoring='loss', validation_fraction=0.1, n_iter_no_change=10, tol=1e-07, verbose=0, random_state=None, class_weight=None)\n",
    "# class sklearn.ensemble.VotingClassifier(estimators, *, voting='hard', weights=None, n_jobs=None, flatten_transform=True, verbose=False)\n",
    "# class sklearn.ensemble.StackingClassifier(estimators, final_estimator=None, *, cv=None, stack_method='auto', n_jobs=None, passthrough=False, verbose=0)\n",
    "# class sklearn.neural_network.MLPClassifier(hidden_layer_sizes=(100,), activation='relu', *, solver='adam', alpha=0.0001, batch_size='auto', learning_rate='constant', learning_rate_init=0.001, power_t=0.5, max_iter=200, shuffle=True, random_state=None, tol=0.0001, verbose=False, warm_start=False, momentum=0.9, nesterovs_momentum=True, early_stopping=False, validation_fraction=0.1, beta_1=0.9, beta_2=0.999, epsilon=1e-08, n_iter_no_change=10, max_fun=15000)\n"
   ]
  }
 ],
 "metadata": {
  "kernelspec": {
   "display_name": "Python 3 (ipykernel)",
   "language": "python",
   "name": "python3"
  },
  "language_info": {
   "codemirror_mode": {
    "name": "ipython",
    "version": 3
   },
   "file_extension": ".py",
   "mimetype": "text/x-python",
   "name": "python",
   "nbconvert_exporter": "python",
   "pygments_lexer": "ipython3",
   "version": "3.9.13"
  }
 },
 "nbformat": 4,
 "nbformat_minor": 5
}
